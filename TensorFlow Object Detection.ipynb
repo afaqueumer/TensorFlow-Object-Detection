{
 "cells": [
  {
   "cell_type": "markdown",
   "id": "d0028047",
   "metadata": {},
   "source": [
    "# TensorFlow Custom Object Detection"
   ]
  },
  {
   "cell_type": "markdown",
   "id": "2c8d0f47",
   "metadata": {},
   "source": [
    "### `Important Links`\n",
    "__`TensorFLow Models`__ : https://github.com/tensorflow/models\n",
    "\n",
    "__`PreTrained Model`__ : \n",
    "http://download.tensorflow.org/models/object_detection/tf2/20200711/ssd_mobilenet_v2_320x320_coco17_tpu-8.tar.gz\n",
    "\n",
    "__`Protocol Buffers`__ : https://github.com/protocolbuffers/protobuf/releases/tag/v3.19.4"
   ]
  },
  {
   "cell_type": "markdown",
   "id": "f5629aba",
   "metadata": {},
   "source": [
    "## Step 1: Create Folder Structure"
   ]
  },
  {
   "cell_type": "code",
   "execution_count": null,
   "id": "6170c1d7",
   "metadata": {},
   "outputs": [],
   "source": [
    "import os\n",
    "import wget"
   ]
  },
  {
   "cell_type": "code",
   "execution_count": null,
   "id": "3c72de0b",
   "metadata": {},
   "outputs": [],
   "source": [
    "custom_model_name = 'batman_detector' \n",
    "pretrained_model = 'ssd_mobilenet_v2_320x320_coco17_tpu-8'\n",
    "tf_record_script = 'generate_tfrecord.py'\n",
    "label_map = 'label_map.pbtxt'"
   ]
  },
  {
   "cell_type": "code",
   "execution_count": null,
   "id": "33a21581",
   "metadata": {},
   "outputs": [],
   "source": [
    "paths = {\n",
    "    'tensorflow_path': os.path.join('Tensorflow'),    \n",
    "    'workspace_path': os.path.join('Tensorflow', 'workspace'),\n",
    "    'scripts_path': os.path.join('Tensorflow','scripts'),\n",
    "    'api_path': os.path.join('Tensorflow','models'),\n",
    "    'annotation_path': os.path.join('Tensorflow', 'workspace','annotations'),\n",
    "    'image_path': os.path.join('Tensorflow', 'workspace','images'),\n",
    "    'train_image_path': os.path.join('Tensorflow', 'workspace','images','train'),\n",
    "    'test_image_path': os.path.join('Tensorflow', 'workspace','images','test'),\n",
    "    'model_path': os.path.join('Tensorflow', 'workspace','models'),\n",
    "    'pretrained_model_path': os.path.join('Tensorflow', 'workspace','pre-trained-models'),\n",
    "    'checkpoint_path': os.path.join('Tensorflow', 'workspace','models', custom_model_name), \n",
    "    'output_path': os.path.join('Tensorflow', 'workspace','models', custom_model_name, 'export'), \n",
    "    'protoc_path':os.path.join('Tensorflow','protoc')\n",
    " }"
   ]
  },
  {
   "cell_type": "code",
   "execution_count": null,
   "id": "7ea8c0d1",
   "metadata": {},
   "outputs": [],
   "source": [
    "files = {\n",
    "    'pipeline_config':os.path.join('Tensorflow', 'workspace','models', custom_model_name, 'pipeline.config'),\n",
    "    'tf_record_script': os.path.join(paths['scripts_path'], tf_record_script), \n",
    "    'labelmap': os.path.join(paths['annotation_path'], label_map)\n",
    "}"
   ]
  },
  {
   "cell_type": "code",
   "execution_count": null,
   "id": "294d6fe0",
   "metadata": {},
   "outputs": [],
   "source": [
    "for path in paths.values():\n",
    "    if not os.path.exists(path):\n",
    "        os.mkdir(path)"
   ]
  },
  {
   "cell_type": "markdown",
   "id": "fb56ab8e",
   "metadata": {},
   "source": [
    "## Step 2: Installing TensorFlow Object Detection API"
   ]
  },
  {
   "cell_type": "code",
   "execution_count": null,
   "id": "36083e8e",
   "metadata": {},
   "outputs": [],
   "source": [
    "download_urls = {\n",
    "    'protobuff': \"https://github.com/protocolbuffers/protobuf/releases/download/v3.19.4/protoc-3.19.4-win64.zip\",\n",
    "    'tensorflow_models': \"https://github.com/tensorflow/models/archive/refs/heads/master.zip\",\n",
    "    'pretrained_model': \"http://download.tensorflow.org/models/object_detection/tf2/20200711/ssd_mobilenet_v2_320x320_coco17_tpu-8.tar.gz\"\n",
    "}"
   ]
  },
  {
   "cell_type": "code",
   "execution_count": null,
   "id": "fda84e5f",
   "metadata": {
    "scrolled": true
   },
   "outputs": [],
   "source": [
    "# Download Protoc & Extract files\n",
    "wget.download(download_urls[\"protobuff\"], paths['protoc_path'])\n",
    "!cd {paths['protoc_path']} && tar -xf protoc-3.19.4-win64.zip"
   ]
  },
  {
   "cell_type": "code",
   "execution_count": null,
   "id": "486d6bdb",
   "metadata": {
    "scrolled": true
   },
   "outputs": [],
   "source": [
    "# Add protoc/bin to environment path\n",
    "os.environ['PATH'] += os.pathsep + os.path.abspath(os.path.join(paths['protoc_path'], 'bin')) "
   ]
  },
  {
   "cell_type": "code",
   "execution_count": null,
   "id": "c885cc39",
   "metadata": {},
   "outputs": [],
   "source": [
    "# Download & Extract TensorFlow Object Detection API\n",
    "wget.download(download_urls[\"tensorflow_models\"], paths['api_path'])\n",
    "!cd {paths['api_path']} && tar -xf models-master.zip --strip-components 1"
   ]
  },
  {
   "cell_type": "code",
   "execution_count": null,
   "id": "10b5b5e3",
   "metadata": {},
   "outputs": [],
   "source": [
    "# Download & Extract Pretrained Model from TensorFlow Zoo\n",
    "wget.download(download_urls[\"pretrained_model\"], paths['pretrained_model_path'])\n",
    "!cd {paths['pretrained_model_path']} && tar -zxvf {pretrained_model + '.tar.gz'}"
   ]
  },
  {
   "cell_type": "code",
   "execution_count": null,
   "id": "251e2d62",
   "metadata": {},
   "outputs": [],
   "source": [
    "tfrecord_url = \"https://github.com/afaqueumer/TensorFlow-Object-Detection/raw/main/generate_tfrecord.zip\"\n",
    "wget.download(tfrecord_url, paths['scripts_path'])\n",
    "!cd {paths['scripts_path']} && tar -xf generate_tfrecord.zip"
   ]
  },
  {
   "cell_type": "code",
   "execution_count": null,
   "id": "1a9b63c5",
   "metadata": {},
   "outputs": [],
   "source": [
    "!cd Tensorflow/models/research && protoc object_detection/protos/*.proto --python_out=. && copy object_detection\\\\packages\\\\tf2\\\\setup.py setup.py && python setup.py build && python setup.py install\n",
    "!cd Tensorflow/models/research/slim && pip install -e \n",
    "verification_script = os.path.join(paths['api_path'], 'research', 'object_detection', 'builders', 'model_builder_tf2_test.py')\n",
    "!python {verification_script}"
   ]
  },
  {
   "cell_type": "code",
   "execution_count": null,
   "id": "31aed0dc",
   "metadata": {},
   "outputs": [],
   "source": [
    "import object_detection"
   ]
  },
  {
   "cell_type": "markdown",
   "id": "49731cf7",
   "metadata": {},
   "source": [
    "## Step 3: Preparing the Dataset"
   ]
  },
  {
   "cell_type": "code",
   "execution_count": null,
   "id": "74886a28",
   "metadata": {},
   "outputs": [],
   "source": [
    "labels = [{'id':1, 'name':'Batman'}]\n",
    "with open(files['labelmap'], 'w') as f:\n",
    "    for label in labels:\n",
    "        f.write('item { \\n')\n",
    "        f.write(f'\\tid:{label[\"id\"]}\\n')\n",
    "        f.write(f'\\tname:\\'{label[\"name\"]}\\'\\n')\n",
    "        f.write('}\\n')"
   ]
  },
  {
   "cell_type": "code",
   "execution_count": null,
   "id": "5d92f7a5",
   "metadata": {},
   "outputs": [],
   "source": [
    "!python {files['tf_record_script']} -x {os.path.join(paths['image_path'], 'train')} -l {files['labelmap']} -o {os.path.join(paths['annotation_path'], 'train.record')} \n",
    "!python {files['tf_record_script']} -x {os.path.join(paths['image_path'], 'test')} -l {files['labelmap']} -o {os.path.join(paths['annotation_path'], 'test.record')} "
   ]
  },
  {
   "cell_type": "markdown",
   "id": "626ed45b",
   "metadata": {},
   "source": [
    "## Step 4: Configuring the Model"
   ]
  },
  {
   "cell_type": "code",
   "execution_count": null,
   "id": "be6d154b",
   "metadata": {},
   "outputs": [],
   "source": [
    "!copy {os.path.join(paths['pretrained_model_path'], pretrained_model, 'pipeline.config')} {os.path.join(paths['checkpoint_path'])}"
   ]
  },
  {
   "cell_type": "markdown",
   "id": "d16e4cbf",
   "metadata": {},
   "source": [
    "Modify the above pipeline.config file with paths and parameters."
   ]
  },
  {
   "cell_type": "markdown",
   "id": "8fb2005b",
   "metadata": {},
   "source": [
    "## Step 5: Training the model"
   ]
  },
  {
   "cell_type": "code",
   "execution_count": null,
   "id": "f7b09536",
   "metadata": {},
   "outputs": [],
   "source": [
    "!copy {os.path.join(paths['api_path'], 'research', 'object_detection', 'model_main_tf2.py')} {paths['scripts_path']}"
   ]
  },
  {
   "cell_type": "code",
   "execution_count": null,
   "id": "e46f8e6a",
   "metadata": {},
   "outputs": [],
   "source": [
    "training_script = os.path.join(paths['scripts_path'], 'model_main_tf2.py')\n",
    "training_script"
   ]
  },
  {
   "cell_type": "code",
   "execution_count": null,
   "id": "4bf54aab",
   "metadata": {},
   "outputs": [],
   "source": [
    "training_command = \"python {} --model_dir={} --pipeline_config_path={}\".format(training_script, paths['checkpoint_path'],files['pipeline_config'])"
   ]
  },
  {
   "cell_type": "code",
   "execution_count": null,
   "id": "ba1df7ba",
   "metadata": {},
   "outputs": [],
   "source": [
    "print(training_command)"
   ]
  },
  {
   "cell_type": "code",
   "execution_count": null,
   "id": "44608f93",
   "metadata": {
    "scrolled": false
   },
   "outputs": [],
   "source": [
    "# Train the Model\n",
    "#!{training_command}"
   ]
  },
  {
   "cell_type": "markdown",
   "id": "c92c7b46",
   "metadata": {},
   "source": [
    "## Step 6: Exporting the Model and Making Detections"
   ]
  },
  {
   "cell_type": "code",
   "execution_count": null,
   "id": "87da7356",
   "metadata": {},
   "outputs": [],
   "source": [
    "!copy {os.path.join('TensorFlow','models', 'research', 'object_detection', 'exporter_main_v2.py')} {paths['scripts_path']}"
   ]
  },
  {
   "cell_type": "code",
   "execution_count": null,
   "id": "a05373cc",
   "metadata": {},
   "outputs": [],
   "source": [
    "exporting_script = os.path.join(paths['scripts_path'], 'exporter_main_v2.py')\n",
    "exporting_script"
   ]
  },
  {
   "cell_type": "code",
   "execution_count": null,
   "id": "cbcbc8af",
   "metadata": {},
   "outputs": [],
   "source": [
    "exporting_command = \"python {} --input_type image_tensor --pipeline_config_path={} --trained_checkpoint_dir={} --output_directory={}\".format(exporting_script, files['pipeline_config'], paths['checkpoint_path'], paths['output_path'])"
   ]
  },
  {
   "cell_type": "code",
   "execution_count": null,
   "id": "1f2917ad",
   "metadata": {},
   "outputs": [],
   "source": [
    "print(exporting_command)"
   ]
  },
  {
   "cell_type": "code",
   "execution_count": null,
   "id": "d84c59e9",
   "metadata": {
    "scrolled": true
   },
   "outputs": [],
   "source": [
    "# Export the Model\n",
    "# !{exporting_command}"
   ]
  },
  {
   "cell_type": "code",
   "execution_count": null,
   "id": "b0c7c4f6",
   "metadata": {
    "scrolled": false
   },
   "outputs": [],
   "source": [
    "import time\n",
    "import numpy as np\n",
    "from PIL import Image\n",
    "from matplotlib import pyplot as plt\n",
    "%matplotlib inline\n",
    "from object_detection.utils import label_map_util\n",
    "from object_detection.utils import visualization_utils as viz_utils\n",
    "import tensorflow as tf\n",
    "import numpy as np\n",
    "%matplotlib inline\n",
    "\n",
    "# Provide testing image path\n",
    "testing_image_path = os.path.join('Tensorflow' , 'workspace', 'images', 'batman', 'jj.jpg')\n",
    "model_dir = paths[\"checkpoint_path\"]\n",
    "labels_path = files[\"labelmap\"] \n",
    "saved_model_path = os.path.join(model_dir ,\"export\" , \"saved_model\")\n",
    "\n",
    "# Load exported model\n",
    "print('Loading model...', end='')\n",
    "start_time = time.time()\n",
    "detect_fn = tf.saved_model.load(saved_model_path)\n",
    "end_time = time.time()\n",
    "elapsed_time = end_time - start_time\n",
    "print('Done! Took {} seconds'.format(elapsed_time))\n",
    "\n",
    "# Begin Detection\n",
    "category_index = label_map_util.create_category_index_from_labelmap(labels_path, use_display_name=True)\n",
    "image_np = np.array(Image.open(testing_image_path))\n",
    "input_tensor = tf.convert_to_tensor(image_np)\n",
    "input_tensor = input_tensor[tf.newaxis, ...]\n",
    "detections = detect_fn(input_tensor)\n",
    "num_detections = int(detections.pop('num_detections'))\n",
    "detections = {key: value[0, :num_detections].numpy() for key, value in detections.items()}\n",
    "detections['num_detections'] = num_detections\n",
    "detections['detection_classes'] = detections['detection_classes'].astype(np.int64)\n",
    "image_np_with_detections = image_np.copy()\n",
    "viz_utils.visualize_boxes_and_labels_on_image_array(\n",
    "          image_np_with_detections,\n",
    "          detections['detection_boxes'],\n",
    "          detections['detection_classes'],\n",
    "          detections['detection_scores'],\n",
    "          category_index,\n",
    "          use_normalized_coordinates=True,\n",
    "          max_boxes_to_draw=1,\n",
    "          min_score_thresh=.2,\n",
    "          agnostic_mode=False)\n",
    "\n",
    "# Display the image with detected box\n",
    "plt.imshow(image_np_with_detections)"
   ]
  }
 ],
 "metadata": {
  "kernelspec": {
   "display_name": "Python 3 (ipykernel)",
   "language": "python",
   "name": "python3"
  },
  "language_info": {
   "codemirror_mode": {
    "name": "ipython",
    "version": 3
   },
   "file_extension": ".py",
   "mimetype": "text/x-python",
   "name": "python",
   "nbconvert_exporter": "python",
   "pygments_lexer": "ipython3",
   "version": "3.9.13"
  }
 },
 "nbformat": 4,
 "nbformat_minor": 5
}
